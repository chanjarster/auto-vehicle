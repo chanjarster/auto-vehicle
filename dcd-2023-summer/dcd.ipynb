{
 "cells": [
  {
   "cell_type": "code",
   "execution_count": 3,
   "metadata": {
    "pycharm": {
     "name": "#%%\n"
    }
   },
   "outputs": [
    {
     "name": "stdout",
     "output_type": "stream",
     "text": [
      "续航达成率与其他指标的相关系数\n"
     ]
    },
    {
     "data": {
      "text/html": [
       "<div>\n",
       "<style scoped>\n",
       "    .dataframe tbody tr th:only-of-type {\n",
       "        vertical-align: middle;\n",
       "    }\n",
       "\n",
       "    .dataframe tbody tr th {\n",
       "        vertical-align: top;\n",
       "    }\n",
       "\n",
       "    .dataframe thead th {\n",
       "        text-align: right;\n",
       "    }\n",
       "</style>\n",
       "<table border=\"1\" class=\"dataframe\">\n",
       "  <thead>\n",
       "    <tr style=\"text-align: right;\">\n",
       "      <th></th>\n",
       "      <th>15min降温幅度</th>\n",
       "      <th>暴晒后温度</th>\n",
       "      <th>制冷后温度</th>\n",
       "    </tr>\n",
       "  </thead>\n",
       "  <tbody>\n",
       "    <tr>\n",
       "      <th>纯电动车续航达成率</th>\n",
       "      <td>0.0079</td>\n",
       "      <td>-0.0463</td>\n",
       "      <td>-0.0495</td>\n",
       "    </tr>\n",
       "  </tbody>\n",
       "</table>\n",
       "</div>"
      ],
      "text/plain": [
       "           15min降温幅度   暴晒后温度   制冷后温度\n",
       "纯电动车续航达成率     0.0079 -0.0463 -0.0495"
      ]
     },
     "execution_count": 3,
     "metadata": {},
     "output_type": "execute_result"
    }
   ],
   "source": [
    "import pandas as pd\n",
    "import numpy\n",
    "from sklearn import feature_selection\n",
    "\n",
    "pd.set_option(\"display.max_columns\", None,\n",
    "              \"display.float_format\",lambda x : '%.4f' % x)\n",
    "# 指数\n",
    "indicators = [\n",
    "    '纯电动车续航达成率',\n",
    "]\n",
    "# 考察的指标\n",
    "col_names = [\n",
    "    '15min降温幅度',\n",
    "    '暴晒后温度',\n",
    "    '制冷后温度'\n",
    "]\n",
    "\n",
    "price_column = '续航达成率'\n",
    "\n",
    "correlation_coefficients_result = []\n",
    "\n",
    "for indicator in indicators:\n",
    "    df = pd.read_csv('data/' + indicator + '.csv')\n",
    "    # 只取大于某日期的数据\n",
    "\n",
    "    # 取特征\n",
    "    features = df[col_names]\n",
    "    # 取y值\n",
    "    price = df[price_column].values\n",
    "\n",
    "    correlation_coefficients = feature_selection.r_regression(features, price)\n",
    "    correlation_coefficients_result.append(correlation_coefficients)\n",
    "\n",
    "print('续航达成率与其他指标的相关系数')\n",
    "result = pd.DataFrame(data=correlation_coefficients_result, columns=col_names, index=indicators)\n",
    "result"
   ]
  },
  {
   "cell_type": "code",
   "execution_count": null,
   "metadata": {
    "collapsed": false,
    "pycharm": {
     "name": "#%%\n"
    }
   },
   "outputs": [],
   "source": []
  }
 ],
 "metadata": {
  "kernelspec": {
   "display_name": "Python 3.9.15 ('.venv': venv)",
   "language": "python",
   "name": "python3"
  },
  "language_info": {
   "codemirror_mode": {
    "name": "ipython",
    "version": 3
   },
   "file_extension": ".py",
   "mimetype": "text/x-python",
   "name": "python",
   "nbconvert_exporter": "python",
   "pygments_lexer": "ipython3",
   "version": "3.9.17"
  },
  "orig_nbformat": 4,
  "vscode": {
   "interpreter": {
    "hash": "3374470cb8f3d5c711111773634aa160cf62c71aa5ca6e0df5131dd488b5a7b8"
   }
  }
 },
 "nbformat": 4,
 "nbformat_minor": 2
}
